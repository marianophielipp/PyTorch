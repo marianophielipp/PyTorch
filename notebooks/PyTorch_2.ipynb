{
 "cells": [
  {
   "cell_type": "code",
   "execution_count": 1,
   "metadata": {},
   "outputs": [],
   "source": [
    "import torch\n"
   ]
  },
  {
   "cell_type": "markdown",
   "metadata": {},
   "source": [
    "### Models in PyTorch"
   ]
  },
  {
   "cell_type": "code",
   "execution_count": 2,
   "metadata": {},
   "outputs": [],
   "source": [
    "import torch.nn as nn\n",
    "import torch.nn.functional as F\n",
    "\n",
    "class TwoLayerNet(nn.Module):\n",
    "  def __init__(self, D_in, H, D_out):\n",
    "    \"\"\"\n",
    "    In the constructor we instantiate two nn.Linear modules and assign them as\n",
    "    member variables.\n",
    "    \n",
    "    D_in: input dimension\n",
    "    H: dimension of hidden layer\n",
    "    D_out: output dimension\n",
    "    \"\"\"\n",
    "    super(TwoLayerNet, self).__init__()\n",
    "    self.linear1 = nn.Linear(D_in, H) \n",
    "    self.linear2 = nn.Linear(H, D_out)\n",
    "  \n",
    "  def forward(self, x):\n",
    "    \"\"\"\n",
    "    In the forward function we accept a Variable of input data and we must \n",
    "    return a Variable of output data. We can use Modules defined in the \n",
    "    constructor as well as arbitrary operators on Variables.\n",
    "    \"\"\"\n",
    "    h_relu = F.relu(self.linear1(x))\n",
    "    y_pred = self.linear2(h_relu)\n",
    "    y_pred = F.relu(y_pred)\n",
    "    return y_pred"
   ]
  },
  {
   "cell_type": "code",
   "execution_count": 48,
   "metadata": {},
   "outputs": [],
   "source": [
    "# N is batch size; D_in is input dimension;\n",
    "# H is the dimension of the hidden layer; D_out is output dimension.\n",
    "N, D_in, H, D_out = 32, 100, 50, 3\n",
    "\n",
    "# Create random Tensors to hold inputs and outputs, and wrap them in Variables\n",
    "x = torch.rand(N, D_in)  # dim: 32 x 100\n",
    "# print(x)\n",
    "\n",
    "y = torch.rand(N, D_out)  # dim: 32 x 3\n",
    "\n",
    "y = torch.FloatTensor(N).uniform_(0, 3).long()\n",
    "    \n",
    "#print(y)\n",
    "\n",
    "# print(y.size())\n",
    "\n",
    "# print(y)\n",
    "\n",
    "# Construct our model by instantiating the class defined above\n",
    "model = TwoLayerNet(D_in, H, D_out)\n",
    "\n",
    "# Forward pass: Compute predicted y by passing x to the model\n",
    "# print(x)\n",
    "y_pred = model(x)   # dim: 32 x 2\n",
    "\n",
    "# print(y_pred.size())\n",
    "\n",
    "# print(y_pred)"
   ]
  },
  {
   "cell_type": "markdown",
   "metadata": {},
   "source": [
    "### Loss Function"
   ]
  },
  {
   "cell_type": "code",
   "execution_count": 47,
   "metadata": {},
   "outputs": [
    {
     "name": "stdout",
     "output_type": "stream",
     "text": [
      "tensor([[-0.0265, -0.0310, -0.5137,  0.1935, -2.4646, -0.5742, -1.5485,  0.7430,\n",
      "         -0.9231,  0.2128,  1.3878, -0.7392,  0.1442, -0.0018,  0.9393,  1.2987,\n",
      "         -0.5604,  0.6821,  0.4307,  0.1910,  2.1175, -0.2789, -1.5653,  0.7893,\n",
      "          0.2644, -0.4956, -1.6536,  2.8626, -1.8352,  1.7630,  0.6107],\n",
      "        [ 0.4388, -1.2152,  1.2271, -0.2915, -0.3719,  0.0523, -0.0716,  2.0456,\n",
      "         -0.6136, -0.2922,  0.4311,  1.4703, -1.1593,  0.7987,  0.0518, -0.1968,\n",
      "          2.3238,  0.7141, -1.2400, -0.5959, -1.3883, -1.5304, -0.7080, -1.8377,\n",
      "          0.1892,  0.6140,  1.2384,  0.1379,  0.2010, -0.9397,  0.7367],\n",
      "        [ 1.0436,  0.1653, -0.0220,  1.3089,  0.3749, -0.8718,  0.2459,  1.1522,\n",
      "         -0.9381, -1.2553, -0.3964,  0.9405,  0.0998, -0.5594, -0.0527,  0.7225,\n",
      "         -0.5757,  0.4124,  0.1184,  0.0529,  0.1075,  0.1305,  0.7485,  1.1113,\n",
      "         -1.2988,  0.6225,  0.6330,  1.2118,  1.3249, -1.5428, -1.2823]])\n",
      "tensor([18, 15, 23])\n"
     ]
    }
   ],
   "source": [
    "criterion = nn.CrossEntropyLoss()\n",
    "\n",
    "output = (torch.randn(3,32).float())\n",
    "target = (torch.FloatTensor(3).uniform_(0, 32).long())\n",
    "print(output)\n",
    "print(target)\n",
    "loss = criterion(output, target)"
   ]
  },
  {
   "cell_type": "code",
   "execution_count": 53,
   "metadata": {},
   "outputs": [
    {
     "name": "stdout",
     "output_type": "stream",
     "text": [
      "tensor([[0.0000, 0.0000, 0.0000],\n",
      "        [0.0000, 0.0469, 0.0000],\n",
      "        [0.0000, 0.0000, 0.0000],\n",
      "        [0.0000, 0.0124, 0.0000],\n",
      "        [0.0000, 0.0410, 0.0000],\n",
      "        [0.0000, 0.0495, 0.0000],\n",
      "        [0.0000, 0.0242, 0.0000],\n",
      "        [0.0000, 0.0297, 0.0000],\n",
      "        [0.0000, 0.0000, 0.0000],\n",
      "        [0.0000, 0.0000, 0.0000],\n",
      "        [0.0000, 0.0065, 0.0000],\n",
      "        [0.0000, 0.0412, 0.0000],\n",
      "        [0.0000, 0.0754, 0.0000],\n",
      "        [0.0000, 0.0000, 0.0000],\n",
      "        [0.0000, 0.0000, 0.0000],\n",
      "        [0.0000, 0.0184, 0.0000],\n",
      "        [0.0000, 0.0082, 0.0000],\n",
      "        [0.0000, 0.0406, 0.0000],\n",
      "        [0.0000, 0.0817, 0.0000],\n",
      "        [0.0000, 0.0220, 0.0000],\n",
      "        [0.0000, 0.0212, 0.0000],\n",
      "        [0.0000, 0.0687, 0.0000],\n",
      "        [0.0000, 0.0421, 0.0000],\n",
      "        [0.0358, 0.1771, 0.0000],\n",
      "        [0.0000, 0.1196, 0.0000],\n",
      "        [0.0000, 0.0000, 0.0000],\n",
      "        [0.0000, 0.1033, 0.0000],\n",
      "        [0.0000, 0.0722, 0.0000],\n",
      "        [0.0000, 0.0376, 0.0000],\n",
      "        [0.0000, 0.0000, 0.0000],\n",
      "        [0.0000, 0.0302, 0.0000],\n",
      "        [0.0000, 0.0000, 0.0000]], grad_fn=<ReluBackward>)\n",
      "tensor([0, 0, 2, 2, 1, 1, 0, 2, 0, 1, 2, 1, 2, 1, 1, 0, 0, 2, 0, 0, 2, 1, 0, 1,\n",
      "        2, 1, 1, 2, 2, 2, 0, 0])\n",
      "Loss: tensor(1.0965, grad_fn=<NllLossBackward>)\n",
      "Loss: tensor(1.0965, grad_fn=<DivBackward0>)\n"
     ]
    }
   ],
   "source": [
    "print(y_pred)\n",
    "print(y)\n",
    "\n",
    "loss_fn = nn.CrossEntropyLoss()\n",
    "loss = loss_fn(y_pred, y.long())\n",
    "\n",
    "print(\"Loss:\",loss)\n",
    "\n",
    "def myCrossEntropyLoss(outputs, labels):\n",
    "  # print(\"labels:\",labels)\n",
    "  batch_size = outputs.size()[0]            # batch_size\n",
    "  # print(\"outputs:\",outputs)\n",
    "  outputs = F.log_softmax(outputs,dim=1)   # compute the log of softmax values\n",
    "  # print(\"out log soft:\",outputs)\n",
    "  outputs = outputs[range(batch_size), labels] # pick the values corresponding to the labels\n",
    "  # print(outputs)\n",
    "  return -torch.sum(outputs)/32\n",
    "\n",
    "# print(\"y_pred:\",y_pred.size())\n",
    "# print(\"y:\",y.transpose(0,1).size())\n",
    "loss = myCrossEntropyLoss(y_pred, y.long())\n",
    "\n",
    "print(\"Loss:\",loss)"
   ]
  },
  {
   "cell_type": "markdown",
   "metadata": {},
   "source": [
    "### Optimizer"
   ]
  },
  {
   "cell_type": "code",
   "execution_count": 54,
   "metadata": {},
   "outputs": [],
   "source": [
    "# SGD optimizer\n",
    "optimizer = torch.optim.SGD(model.parameters(), lr = 0.01, momentum=0.9)\n",
    "\n",
    "# ADAM\n",
    "optimizer = torch.optim.Adam(model.parameters(), lr = 0.0001)\n",
    "\n"
   ]
  },
  {
   "cell_type": "markdown",
   "metadata": {},
   "source": [
    "### Training vs Evaluation\n",
    "`Before training the model, it is imperative to call`\n",
    "\n",
    "model.train()\n",
    "\n",
    "`Likewise, you must call` \n",
    "\n",
    "model.eval() \n",
    "before testing the model. \n",
    "\n",
    "`This corrects for the differences in dropout, batch normalization during training and testing.`"
   ]
  },
  {
   "cell_type": "markdown",
   "metadata": {},
   "source": [
    "### Core Training Step"
   ]
  },
  {
   "cell_type": "code",
   "execution_count": 59,
   "metadata": {},
   "outputs": [
    {
     "name": "stdout",
     "output_type": "stream",
     "text": [
      "tensor(1.0949, grad_fn=<NllLossBackward>)\n",
      "tensor(1.0944, grad_fn=<NllLossBackward>)\n",
      "tensor(1.0939, grad_fn=<NllLossBackward>)\n",
      "tensor(1.0936, grad_fn=<NllLossBackward>)\n",
      "tensor(1.0932, grad_fn=<NllLossBackward>)\n",
      "tensor(1.0929, grad_fn=<NllLossBackward>)\n"
     ]
    }
   ],
   "source": [
    "output_batch = model(x)           # compute model output\n",
    "loss = loss_fn(output_batch, y)  # calculate loss\n",
    "\n",
    "print(loss)\n",
    "\n",
    "for _ in range(5):\n",
    "    \n",
    "    optimizer.zero_grad()  # clear previous gradients\n",
    "    \n",
    "    loss.backward()        # compute gradients of all variables wrt loss\n",
    "\n",
    "    optimizer.step()       # perform updates using calculated gradients\n",
    "    \n",
    "    output_batch = model(x)     \n",
    "    \n",
    "    loss = loss_fn(output_batch, y)\n",
    "\n",
    "    print(loss)"
   ]
  },
  {
   "cell_type": "markdown",
   "metadata": {},
   "source": [
    "### Computing Metrics"
   ]
  },
  {
   "cell_type": "code",
   "execution_count": 63,
   "metadata": {},
   "outputs": [
    {
     "name": "stdout",
     "output_type": "stream",
     "text": [
      "0.34375\n"
     ]
    }
   ],
   "source": [
    "import numpy as np\n",
    "def accuracy(out, labels):\n",
    "  outputs = np.argmax(out, axis=1)\n",
    "  return np.sum(outputs==labels)/float(labels.size)\n",
    "\n",
    "print(accuracy(output_batch.long().numpy(), y.numpy()))"
   ]
  },
  {
   "cell_type": "code",
   "execution_count": null,
   "metadata": {},
   "outputs": [],
   "source": []
  }
 ],
 "metadata": {
  "kernelspec": {
   "display_name": "Python 3",
   "language": "python",
   "name": "python3"
  },
  "language_info": {
   "codemirror_mode": {
    "name": "ipython",
    "version": 3
   },
   "file_extension": ".py",
   "mimetype": "text/x-python",
   "name": "python",
   "nbconvert_exporter": "python",
   "pygments_lexer": "ipython3",
   "version": "3.6.2"
  }
 },
 "nbformat": 4,
 "nbformat_minor": 2
}
