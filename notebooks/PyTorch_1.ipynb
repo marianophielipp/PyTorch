{
 "cells": [
  {
   "cell_type": "code",
   "execution_count": 1,
   "metadata": {},
   "outputs": [
    {
     "name": "stdout",
     "output_type": "stream",
     "text": [
      "tensor([1., 2., 3.])\n",
      "tensor([[1., 2., 3.],\n",
      "        [3., 4., 5.]])\n"
     ]
    }
   ],
   "source": [
    "### Following the intros to PyTorch\n",
    "\n",
    "### Tensors and Variables \n",
    "\n",
    "import torch\n",
    "x1d = torch.Tensor([1,2,3])\n",
    "print(x1d)\n",
    "x2d = torch.Tensor([[1,2,3],[3,4,5]])\n",
    "print(x2d)"
   ]
  },
  {
   "cell_type": "code",
   "execution_count": 2,
   "metadata": {},
   "outputs": [
    {
     "name": "stdout",
     "output_type": "stream",
     "text": [
      "tensor([[                              0.0000,\n",
      "                                       0.0000,\n",
      "                                      70.7660],\n",
      "        [-158494935096892617406355079168.0000,\n",
      "                                       0.0000,\n",
      "                                       0.0000]])\n",
      "tensor([[0.3123, 0.0013, 0.5513],\n",
      "        [0.3299, 0.1243, 0.1945]])\n"
     ]
    }
   ],
   "source": [
    "### Initialize Random\n",
    "x =  torch.Tensor(2, 3) \n",
    "print(x)\n",
    "y = torch.rand(2, 3)    # Initialize with random values\n",
    "print(y)"
   ]
  },
  {
   "cell_type": "code",
   "execution_count": 3,
   "metadata": {},
   "outputs": [
    {
     "name": "stdout",
     "output_type": "stream",
     "text": [
      "tensor([[                              0.3123,\n",
      "                                       0.0013,\n",
      "                                      71.3173],\n",
      "        [-158494935096892617406355079168.0000,\n",
      "                                       0.1243,\n",
      "                                       0.1945]])\n",
      "tensor([[                              0.3123,\n",
      "                                       0.0013,\n",
      "                                      71.3173],\n",
      "        [-158494935096892617406355079168.0000,\n",
      "                                       0.1243,\n",
      "                                       0.1945]])\n"
     ]
    }
   ],
   "source": [
    "### Operations\n",
    "z1 = x + y\n",
    "print(z1)  \n",
    "\n",
    "z2 = torch.add(x, y)             # Same as above\n",
    "print(z2)"
   ]
  },
  {
   "cell_type": "code",
   "execution_count": 4,
   "metadata": {},
   "outputs": [
    {
     "name": "stdout",
     "output_type": "stream",
     "text": [
      "tensor([[0.0000, 0.0000],\n",
      "        [0.0000, 0.0000],\n",
      "        [0.0000, 0.0000],\n",
      "        [0.0000, 0.0000],\n",
      "        [0.0000, 0.0000],\n",
      "        [0.0000, 0.0000]])\n",
      "torch.Size([6, 2])\n"
     ]
    },
    {
     "data": {
      "text/plain": [
       "12"
      ]
     },
     "execution_count": 4,
     "metadata": {},
     "output_type": "execute_result"
    }
   ],
   "source": [
    "### Basic Tensor operation\n",
    "x = torch.Tensor(6, 2)\n",
    "print(x)\n",
    "print(x.size())                        # torch.Size([6, 2])\n",
    "torch.numel(x)                  # 6: number of elements in x"
   ]
  },
  {
   "cell_type": "code",
   "execution_count": 5,
   "metadata": {},
   "outputs": [
    {
     "name": "stdout",
     "output_type": "stream",
     "text": [
      "tensor([[-0.8248, -1.3497, -0.3734],\n",
      "        [ 0.0420,  0.2231,  1.2795]])\n",
      "tensor([-0.8248, -1.3497, -0.3734,  0.0420,  0.2231,  1.2795])\n",
      "tensor([[-0.8248, -1.3497, -0.3734],\n",
      "        [ 0.0420,  0.2231,  1.2795]])\n",
      "tensor([[-0.8248, -1.3497],\n",
      "        [-0.3734,  0.0420],\n",
      "        [ 0.2231,  1.2795]])\n",
      "tensor([[-0.8248],\n",
      "        [-1.3497],\n",
      "        [-0.3734],\n",
      "        [ 0.0420],\n",
      "        [ 0.2231],\n",
      "        [ 1.2795]])\n"
     ]
    }
   ],
   "source": [
    "### Tensor resizing / reshaping.\n",
    "x = torch.randn(2, 3)            # Size 2x3\n",
    "print(x)\n",
    "y = x.view(6)                    # Resize x to size 6. \n",
    "print(y)\n",
    "z = x.view(-1, 3)                # Size same\n",
    "print(z)\n",
    "z = x.view(-1, 2)                # Size 3x2\n",
    "print(z)\n",
    "z = x.view(-1, 1)                # Size 6\n",
    "print(z)"
   ]
  },
  {
   "cell_type": "code",
   "execution_count": 6,
   "metadata": {},
   "outputs": [
    {
     "name": "stdout",
     "output_type": "stream",
     "text": [
      "tensor([[0.7576, 0.2793, 0.4031],\n",
      "        [0.7347, 0.0293, 0.7999]])\n",
      "tensor([[ 0.5636,  1.1431,  0.8590],\n",
      "        [ 0.7056, -0.3406, -1.2720]])\n",
      "tensor([2, 0, 1, 3])\n"
     ]
    }
   ],
   "source": [
    "#For reproducibility. Random initilizations.\n",
    "torch.manual_seed(1)\n",
    "v = torch.rand(2, 3)            # Initialize with random number (uniform distribution)\n",
    "print(v)\n",
    "v = torch.randn(2, 3)           # With normal distribution (SD=1, mean=0)\n",
    "print(v)\n",
    "v = torch.randperm(4)   # Random permutation\n",
    "print(v)"
   ]
  },
  {
   "cell_type": "code",
   "execution_count": 7,
   "metadata": {},
   "outputs": [
    {
     "name": "stdout",
     "output_type": "stream",
     "text": [
      "tensor([[0.1980, 0.4162, 0.2843],\n",
      "        [0.3398, 0.5239, 0.7981]])\n",
      "tensor([[1.0000, 0.4162, 0.2843],\n",
      "        [1.0000, 0.5239, 0.7981]])\n",
      "tensor([[1.0000, 0.4162, 0.2843],\n",
      "        [5.0000, 5.0000, 5.0000]])\n"
     ]
    }
   ],
   "source": [
    "### Indexing\n",
    "# Can use numpy type indexing\n",
    "# For assignment\n",
    "\n",
    "x[:, 0] = 0                      \n",
    "x = torch.rand(2,3)\n",
    "print(x)\n",
    "x[:,0]=1\n",
    "print(x)\n",
    "x[1,:]=5\n",
    "print(x)"
   ]
  },
  {
   "cell_type": "code",
   "execution_count": 8,
   "metadata": {},
   "outputs": [
    {
     "name": "stdout",
     "output_type": "stream",
     "text": [
      "tensor([[1., 0., 0.],\n",
      "        [0., 1., 0.],\n",
      "        [0., 0., 1.]])\n",
      "tensor([1., 1., 1., 1., 1., 1., 1., 1., 1., 1.])\n",
      "tensor([[[[1.],\n",
      "          [1.]]],\n",
      "\n",
      "\n",
      "        [[[1.],\n",
      "          [1.]]]])\n",
      "tensor([[1., 1., 1.],\n",
      "        [1., 1., 1.],\n",
      "        [1., 1., 1.]])\n",
      "tensor([0., 0., 0., 0., 0., 0., 0., 0., 0., 0.])\n",
      "tensor([[1., 1., 1.],\n",
      "        [1., 1., 1.],\n",
      "        [1., 1., 1.]])\n",
      "tensor([[1., 1., 1.],\n",
      "        [2., 2., 2.],\n",
      "        [1., 1., 1.]])\n",
      "tensor([[1., 1., 1.],\n",
      "        [2., 2., 2.],\n",
      "        [3., 3., 3.]])\n"
     ]
    }
   ],
   "source": [
    "#Matrix : Identity and others.\n",
    "eye = torch.eye(3)              # Create an identity 3x3 tensor\n",
    "print(eye)\n",
    "\n",
    "v = torch.ones(10)              # A tensor of size 10 containing all ones\n",
    "print(v)\n",
    "v = torch.ones(2, 1, 2, 1)      # Size 2x1x2x1\n",
    "print(v)\n",
    "v = torch.ones_like(eye)        # A tensor with same shape as eye. Fill it with 1.\n",
    "print(v)\n",
    "v = torch.zeros(10)             # A tensor of size 10 containing all zeros\n",
    "print(v)\n",
    "\n",
    "# 1  1  1\n",
    "# 2  2  2\n",
    "# 3  3  3\n",
    "v = torch.ones(3, 3)\n",
    "print(v)\n",
    "v[1].fill_(2)\n",
    "print(v)\n",
    "v[2].fill_(3)\n",
    "print(v)"
   ]
  },
  {
   "cell_type": "code",
   "execution_count": 9,
   "metadata": {},
   "outputs": [
    {
     "name": "stdout",
     "output_type": "stream",
     "text": [
      "tensor([0, 1, 2, 3, 4])\n",
      "tensor([0, 1, 2, 3, 4])\n",
      "tensor([0, 2, 4])\n",
      "tensor([0, 1, 2, 3, 4, 5, 6, 7, 8])\n",
      "tensor([[0, 1, 2],\n",
      "        [3, 4, 5],\n",
      "        [6, 7, 8]])\n"
     ]
    }
   ],
   "source": [
    "# Initialize Tensor with a range of value\n",
    "v = torch.arange(5)             # similar to range(5) but creating a Tensor\n",
    "print(v)\n",
    "v = torch.arange(0, 5, step=1)  # Size 5. Similar to range(0, 5, 1)\n",
    "print(v)\n",
    "v = torch.arange(0, 5, step=2)  # Size 5. Similar to range(0, 5, 2)\n",
    "print(v)\n",
    "# 0 1 2\n",
    "# 3 4 5\n",
    "# 6 7 8\n",
    "v = torch.arange(9)\n",
    "print(v)\n",
    "v = v.view(3, 3)\n",
    "print(v)"
   ]
  },
  {
   "cell_type": "code",
   "execution_count": 10,
   "metadata": {},
   "outputs": [
    {
     "name": "stdout",
     "output_type": "stream",
     "text": [
      "tensor([ 1.,  2.,  3.,  4.,  5.,  6.,  7.,  8.,  9., 10.])\n",
      "tensor([1.0000e-10, 1.0000e-05, 1.0000e+00, 1.0000e+05, 1.0000e+10])\n"
     ]
    }
   ],
   "source": [
    "# Initialize a linear or log scale Tensor\n",
    "v = torch.linspace(1, 10, steps=10) # Create a Tensor with 10 linear points for (1, 10) inclusively\n",
    "print(v)\n",
    "v = torch.logspace(start=-10, end=10, steps=5) # Size 5: 1.0e-10 1.0e-05 1.0e+00, 1.0e+05, 1.0e+10\n",
    "print(v)"
   ]
  },
  {
   "cell_type": "code",
   "execution_count": 11,
   "metadata": {},
   "outputs": [
    {
     "name": "stdout",
     "output_type": "stream",
     "text": [
      "[1 2]\n",
      "tensor([1, 2])\n",
      "[1 4]\n"
     ]
    }
   ],
   "source": [
    "### From numpy and to numpy.\n",
    "import numpy as np\n",
    "\n",
    "a = np.array([1,2])\n",
    "print(a)\n",
    "b = torch.from_numpy(a)\n",
    "print(b)\n",
    "b = b**2\n",
    "c = b.numpy()\n",
    "print(c)"
   ]
  },
  {
   "cell_type": "code",
   "execution_count": 12,
   "metadata": {},
   "outputs": [
    {
     "name": "stdout",
     "output_type": "stream",
     "text": [
      "tensor([1., 2.], requires_grad=True)\n",
      "tensor(5., grad_fn=<SumBackward0>)\n",
      "tensor([2., 4.])\n"
     ]
    }
   ],
   "source": [
    "### Variables and Gradients\n",
    "\n",
    "from torch.autograd import Variable\n",
    "a = Variable(torch.Tensor([1,2]), requires_grad=True)\n",
    "print(a)\n",
    "\n",
    "y = torch.sum(a**2) # 1 + 4 \n",
    "print(y)\n",
    "\n",
    "y.backward()       # compute gradients of y wrt a\n",
    "print(a.grad)      # print dy/da_ij = 2*a_ij for a_11, a_12\n",
    "#Variable containing:  2  4"
   ]
  }
 ],
 "metadata": {
  "kernelspec": {
   "display_name": "Python 3",
   "language": "python",
   "name": "python3"
  },
  "language_info": {
   "codemirror_mode": {
    "name": "ipython",
    "version": 3
   },
   "file_extension": ".py",
   "mimetype": "text/x-python",
   "name": "python",
   "nbconvert_exporter": "python",
   "pygments_lexer": "ipython3",
   "version": "3.6.2"
  }
 },
 "nbformat": 4,
 "nbformat_minor": 2
}
